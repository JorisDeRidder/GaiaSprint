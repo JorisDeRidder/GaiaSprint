{
 "cells": [
  {
   "cell_type": "markdown",
   "metadata": {},
   "source": [
    "# HDF5 files containing Gaia halo data "
   ]
  },
  {
   "cell_type": "markdown",
   "metadata": {},
   "source": [
    "## Imports"
   ]
  },
  {
   "cell_type": "code",
   "execution_count": 2,
   "metadata": {},
   "outputs": [],
   "source": [
    "import numpy as np"
   ]
  },
  {
   "cell_type": "code",
   "execution_count": 3,
   "metadata": {},
   "outputs": [],
   "source": [
    "import tables"
   ]
  },
  {
   "cell_type": "code",
   "execution_count": 10,
   "metadata": {},
   "outputs": [],
   "source": [
    "import csv"
   ]
  },
  {
   "cell_type": "markdown",
   "metadata": {},
   "source": [
    "## Halo sources from the GAVO mock catalog"
   ]
  },
  {
   "cell_type": "markdown",
   "metadata": {},
   "source": [
    "The following TAP query was executed using TOPCAT, accessing the Gaia GDR2 mock catalog at GAVO:"
   ]
  },
  {
   "cell_type": "code",
   "execution_count": 1,
   "metadata": {},
   "outputs": [],
   "source": [
    "query = \\\n",
    "\"\"\"\n",
    "select\n",
    "    ra, dec, l, b, parallax, parallax_error, phot_g_mean_mag, teff_val, logg, mass, age, a_g_val, e_bp_min_rp_val\n",
    "from\n",
    "    gdr2mock.main\n",
    "where\n",
    "    parallax > 0\n",
    "    and\n",
    "    parallax_error / parallax <= 0.20\n",
    "    and\n",
    "    abs(sin(b))/parallax > 3\n",
    "\"\"\""
   ]
  },
  {
   "cell_type": "markdown",
   "metadata": {},
   "source": [
    "and the result was stored in a CSV file (TAP_14_gdr2mock_main.csv)."
   ]
  },
  {
   "cell_type": "markdown",
   "metadata": {},
   "source": [
    "### Copy the CSV data into an HDF file"
   ]
  },
  {
   "cell_type": "markdown",
   "metadata": {},
   "source": [
    "An HDF5 file is not only much smaller in size, but using PyTables it will also allow for faster queries."
   ]
  },
  {
   "cell_type": "markdown",
   "metadata": {},
   "source": [
    "First the definition of a single row in our HDF5 table. Each row corresponds to one source."
   ]
  },
  {
   "cell_type": "code",
   "execution_count": 4,
   "metadata": {},
   "outputs": [],
   "source": [
    "class Source(tables.IsDescription):\n",
    "    ra              = tables.Float32Col()        # Right Ascencion [deg]\n",
    "    dec             = tables.Float32Col()        # Declination     [deg]\n",
    "    l               = tables.Float32Col()        # Heliocentric galactic longitude [deg]\n",
    "    b               = tables.Float32Col()        # Heliocentric galactic latitude [deg]\n",
    "    parallax        = tables.Float32Col()        # Noiseless parallax [mas]\n",
    "    parallax_error  = tables.Float32Col()        # Parallax uncertainty [mas]\n",
    "    Gmag            = tables.Float32Col()        # Mean G magnitude\n",
    "    Teff            = tables.Float32Col()        # Effective temperature [K]\n",
    "    logg            = tables.Float32Col()        # log(g)  [cgs]\n",
    "    mass            = tables.Float32Col()        # Mass [Msun]\n",
    "    age             = tables.Float32Col()        # Age [Gyr]\n",
    "    AG              = tables.Float32Col()        # Extinction in the G-band\n",
    "    EBPminRP        = tables.Float32Col()        # Reddening of BP-RP color\n",
    "    distance        = tables.Float32Col()        # Noiseless heliocentric distance [kpc]\n",
    "    distance_error  = tables.Float32Col()        # Heliocentric distance uncertainty [kpc]\n",
    "    GCdist          = tables.Float32Col()        # Noiseless galactocentric distance [kpc]\n",
    "    GClat           = tables.Float32Col()        # Noiseless galactocentric latitude [deg]\n",
    "    GClon           = tables.Float32Col()        # Noiseless galactocentric longitude [deg]"
   ]
  },
  {
   "cell_type": "markdown",
   "metadata": {},
   "source": [
    "Open the HDF5 file to write, and create an (empty) table:"
   ]
  },
  {
   "cell_type": "code",
   "execution_count": 6,
   "metadata": {},
   "outputs": [],
   "source": [
    "h5file = tables.open_file(\"halo_gdr2mock.h5\", mode=\"w\", title=\"Selection of Halo sources in gdr2mock\")"
   ]
  },
  {
   "cell_type": "code",
   "execution_count": 7,
   "metadata": {},
   "outputs": [],
   "source": [
    "table = h5file.create_table(\"/\", \"HaloSources\", Source, \"Source data from gdr2mock at GAVO\")"
   ]
  },
  {
   "cell_type": "markdown",
   "metadata": {},
   "source": [
    "Get a pointer to the Row instance of our table. This will be used to fill the table."
   ]
  },
  {
   "cell_type": "code",
   "execution_count": 11,
   "metadata": {},
   "outputs": [],
   "source": [
    "source = table.row"
   ]
  },
  {
   "cell_type": "markdown",
   "metadata": {},
   "source": [
    "Open the CSV file downloaded with TOPCAT, parse all lines, and fill the HDF5 table."
   ]
  },
  {
   "cell_type": "code",
   "execution_count": 15,
   "metadata": {},
   "outputs": [],
   "source": [
    "with open(\"/Users/joris/Downloads/TAP_14_gdr2mock_main.csv\", \"rt\") as csvfile:\n",
    "    reader = csv.reader(csvfile, delimiter=',')\n",
    "    for n, line in enumerate(reader):\n",
    "        if n == 0: continue     # skip header line    \n",
    "        source['ra']              = float(line[0])\n",
    "        source['dec']             = float(line[1])\n",
    "        source['l']               = float(line[2])\n",
    "        source['b']               = float(line[3])\n",
    "        source['parallax']        = float(line[4])\n",
    "        source['parallax_error']  = float(line[5])\n",
    "        source['Gmag']            = float(line[6])\n",
    "        source['Teff']            = float(line[7])\n",
    "        source['logg']            = float(line[8])\n",
    "        source['mass']            = float(line[9])\n",
    "        source['age']             = float(line[10])\n",
    "        source['AG']              = float(line[11])\n",
    "        source['EBPminRP']        = float(line[12])\n",
    "        source['distance']        = 1/float(line[4])\n",
    "        source['distance_error']  = float(line[5])/float(line[4])**2        \n",
    "        \n",
    "        dist = 1/float(line[4])\n",
    "        l = np.deg2rad(float(line[2]))\n",
    "        b = np.deg2rad(float(line[3]))\n",
    "        x = 8.2 - dist * np.cos(b) * np.cos(l)\n",
    "        y = dist * np.cos(b) * np.sin(l)\n",
    "        z = dist * np.sin(b)\n",
    "        gcdist = np.sqrt(x*x + y*y + z*z)\n",
    "\n",
    "        source['GCdist']          = gcdist\n",
    "        source['GClat']           = np.rad2deg(np.arcsin(z/gcdist))          # degrees in [-90, +90]\n",
    "        source['GClon']           = 180.0 + np.rad2deg(np.arctan2(y, x))     # degrees in [0, 360]\n",
    "        source.append()"
   ]
  },
  {
   "cell_type": "markdown",
   "metadata": {},
   "source": [
    "It's important to flush the table!  "
   ]
  },
  {
   "cell_type": "code",
   "execution_count": 16,
   "metadata": {},
   "outputs": [],
   "source": [
    "table.flush()"
   ]
  },
  {
   "cell_type": "code",
   "execution_count": 18,
   "metadata": {},
   "outputs": [
    {
     "name": "stdout",
     "output_type": "stream",
     "text": [
      "halo_gdr2mock.h5 (File) 'Selection of Halo sources in gdr2mock'\n",
      "Last modif.: 'Wed May 23 16:03:16 2018'\n",
      "Object Tree: \n",
      "/ (RootGroup) 'Selection of Halo sources in gdr2mock'\n",
      "/HaloSources (Table(4551861,)) 'Source data from gdr2mock at GAVO'\n",
      "\n"
     ]
    }
   ],
   "source": [
    "print(h5file)"
   ]
  },
  {
   "cell_type": "markdown",
   "metadata": {},
   "source": [
    "So we have about 4.5 million sources in our table."
   ]
  },
  {
   "cell_type": "code",
   "execution_count": 19,
   "metadata": {},
   "outputs": [],
   "source": [
    "h5file.close()"
   ]
  },
  {
   "cell_type": "markdown",
   "metadata": {},
   "source": [
    "### Example on how to read and query the HDF5 file"
   ]
  },
  {
   "cell_type": "code",
   "execution_count": 43,
   "metadata": {},
   "outputs": [],
   "source": [
    "h5file = tables.open_file('halo_gdr2mock.h5', 'r')"
   ]
  },
  {
   "cell_type": "code",
   "execution_count": 44,
   "metadata": {},
   "outputs": [
    {
     "name": "stdout",
     "output_type": "stream",
     "text": [
      "halo_gdr2mock.h5 (File) 'Selection of Halo sources in gdr2mock'\n",
      "Last modif.: 'Wed May 23 16:05:31 2018'\n",
      "Object Tree: \n",
      "/ (RootGroup) 'Selection of Halo sources in gdr2mock'\n",
      "/HaloSources (Table(4551861,)) 'Source data from gdr2mock at GAVO'\n",
      "\n"
     ]
    }
   ],
   "source": [
    "print(h5file)"
   ]
  },
  {
   "cell_type": "code",
   "execution_count": 45,
   "metadata": {},
   "outputs": [],
   "source": [
    "table = h5file.root.HaloSources"
   ]
  },
  {
   "cell_type": "markdown",
   "metadata": {},
   "source": [
    "To find out the column names:"
   ]
  },
  {
   "cell_type": "code",
   "execution_count": 50,
   "metadata": {},
   "outputs": [
    {
     "data": {
      "text/plain": [
       "{'AG': Float32Col(shape=(), dflt=0.0, pos=0),\n",
       " 'EBPminRP': Float32Col(shape=(), dflt=0.0, pos=1),\n",
       " 'GCdist': Float32Col(shape=(), dflt=0.0, pos=2),\n",
       " 'GClat': Float32Col(shape=(), dflt=0.0, pos=3),\n",
       " 'GClon': Float32Col(shape=(), dflt=0.0, pos=4),\n",
       " 'Gmag': Float32Col(shape=(), dflt=0.0, pos=5),\n",
       " 'Teff': Float32Col(shape=(), dflt=0.0, pos=6),\n",
       " 'age': Float32Col(shape=(), dflt=0.0, pos=7),\n",
       " 'b': Float32Col(shape=(), dflt=0.0, pos=8),\n",
       " 'dec': Float32Col(shape=(), dflt=0.0, pos=9),\n",
       " 'distance': Float32Col(shape=(), dflt=0.0, pos=10),\n",
       " 'distance_error': Float32Col(shape=(), dflt=0.0, pos=11),\n",
       " 'l': Float32Col(shape=(), dflt=0.0, pos=12),\n",
       " 'logg': Float32Col(shape=(), dflt=0.0, pos=13),\n",
       " 'mass': Float32Col(shape=(), dflt=0.0, pos=14),\n",
       " 'parallax': Float32Col(shape=(), dflt=0.0, pos=15),\n",
       " 'parallax_error': Float32Col(shape=(), dflt=0.0, pos=16),\n",
       " 'ra': Float32Col(shape=(), dflt=0.0, pos=17)}"
      ]
     },
     "execution_count": 50,
     "metadata": {},
     "output_type": "execute_result"
    }
   ],
   "source": [
    "table.coldescrs"
   ]
  },
  {
   "cell_type": "markdown",
   "metadata": {},
   "source": [
    "To copy a column into a numpy array. Only do this if the data all fits into memory."
   ]
  },
  {
   "cell_type": "code",
   "execution_count": 51,
   "metadata": {},
   "outputs": [],
   "source": [
    "GCdist = table.col(\"GCdist\")"
   ]
  },
  {
   "cell_type": "code",
   "execution_count": 34,
   "metadata": {},
   "outputs": [
    {
     "name": "stdout",
     "output_type": "stream",
     "text": [
      "4551861\n",
      "[ 9.190434  8.852382  8.699171 ...  9.547629 11.259307 11.824063]\n"
     ]
    }
   ],
   "source": [
    "print(len(GCdist))\n",
    "print(GCdist)"
   ]
  },
  {
   "cell_type": "markdown",
   "metadata": {},
   "source": [
    "To query, we can also use **in-kernel searches**. Such queries are interpreted using the Numexpr package for achieving C-speed computation of array operations."
   ]
  },
  {
   "cell_type": "code",
   "execution_count": 52,
   "metadata": {},
   "outputs": [],
   "source": [
    "selection = \\\n",
    "\"\"\"\n",
    "(Gmag > 14) & (distance * sin(b*3.14159/180) > 3)\n",
    "\"\"\""
   ]
  },
  {
   "cell_type": "code",
   "execution_count": 54,
   "metadata": {},
   "outputs": [],
   "source": [
    "result = table.read_where(selection)"
   ]
  },
  {
   "cell_type": "code",
   "execution_count": 55,
   "metadata": {},
   "outputs": [
    {
     "name": "stdout",
     "output_type": "stream",
     "text": [
      "21890\n"
     ]
    }
   ],
   "source": [
    "print(len(result))"
   ]
  },
  {
   "cell_type": "code",
   "execution_count": 57,
   "metadata": {},
   "outputs": [
    {
     "name": "stdout",
     "output_type": "stream",
     "text": [
      "[(0.079, 0.037 , 10.559762 , 16.746853, 234.10042, 14.1855, 4408.53, 11., 19.695711, 45.211105, 9.028204, 1.7346759, 74.50563 , 1.65902, 0.88942 , 0.110764, 0.02128216, 281.63397)\n",
      " (0.079, 0.038 , 10.038416 , 17.78269 , 231.09494, 14.3129, 4486.69, 11., 21.567657, 44.943832, 8.340075, 1.6114217, 73.54691 , 1.81243, 0.942609, 0.119903, 0.02316697, 278.71863)\n",
      " (0.163, 0.0785, 10.709331 , 17.467978, 231.25261, 14.0039, 4831.21, 13., 21.479668, 48.18661 , 8.779092, 1.5072381, 77.22624 , 1.73951, 0.795574, 0.113907, 0.01955612, 280.31744)\n",
      " (0.061, 0.03  , 10.6213455, 18.584202, 231.83923, 14.0999, 4954.98, 13., 22.530931, 47.36275 , 8.833922, 1.6342727, 75.959564, 1.8627 , 0.789456, 0.1132  , 0.02094196, 278.31787)\n",
      " (0.078, 0.038 , 11.256164 , 16.04918 , 230.13618, 14.2321, 4321.27, 11., 20.329742, 51.48607 , 8.957122, 1.7912903, 81.32812 , 1.64713, 0.913898, 0.111643, 0.02232693, 283.82773)]\n"
     ]
    }
   ],
   "source": [
    "print(result[:5])"
   ]
  },
  {
   "cell_type": "code",
   "execution_count": 60,
   "metadata": {},
   "outputs": [
    {
     "name": "stdout",
     "output_type": "stream",
     "text": [
      "11.039515\n"
     ]
    }
   ],
   "source": [
    "print(result[\"GCdist\"][5])"
   ]
  },
  {
   "cell_type": "markdown",
   "metadata": {},
   "source": [
    "If you create indexes for one or more columns, you can speed up the searches even more: see http://www.pytables.org/usersguide/optimization.html"
   ]
  },
  {
   "cell_type": "code",
   "execution_count": 42,
   "metadata": {},
   "outputs": [],
   "source": [
    "h5file.close()"
   ]
  },
  {
   "cell_type": "markdown",
   "metadata": {},
   "source": [
    "## Halo sources from the Gaia GDR2 archive"
   ]
  },
  {
   "cell_type": "markdown",
   "metadata": {},
   "source": [
    "We used again TOPCAT, this time to query Gaia archive at ESA. The number of the rows was initially larger than the maximum limit (3M), so we split up the query in two parts:"
   ]
  },
  {
   "cell_type": "code",
   "execution_count": null,
   "metadata": {},
   "outputs": [],
   "source": [
    "query1 = \\\n",
    "\"\"\"\n",
    "select\n",
    "    ra,dec,l,b,parallax,parallax_error,phot_g_mean_mag, a_g_val\n",
    "from\n",
    "    gaiadr2.gaia_source\n",
    "where\n",
    "    b >= 0\n",
    "    and\n",
    "    parallax > 0\n",
    "    and\n",
    "    parallax_error / parallax <= 0.20\n",
    "    and\n",
    "    abs(sin(b))/parallax > 3\n",
    "\"\"\""
   ]
  },
  {
   "cell_type": "markdown",
   "metadata": {},
   "source": [
    "which was saved in 'TAP_15_gaiadr2_source.csv' and:"
   ]
  },
  {
   "cell_type": "code",
   "execution_count": null,
   "metadata": {},
   "outputs": [],
   "source": [
    "query2 = \\\n",
    "\"\"\"\n",
    "select\n",
    "    ra,dec,l,b,parallax,parallax_error,phot_g_mean_mag, a_g_val\n",
    "from\n",
    "    gaiadr2.gaia_source\n",
    "where\n",
    "    b < 0\n",
    "    and\n",
    "    parallax > 0\n",
    "    and\n",
    "    parallax_error / parallax <= 0.20\n",
    "    and\n",
    "    abs(sin(b))/parallax > 3\n",
    "\"\"\""
   ]
  },
  {
   "cell_type": "markdown",
   "metadata": {},
   "source": [
    "which was saved in 'TAP_16_gaiadr2_source.csv'"
   ]
  },
  {
   "cell_type": "markdown",
   "metadata": {},
   "source": [
    "### Copy the CSV data into an HDF file"
   ]
  },
  {
   "cell_type": "markdown",
   "metadata": {},
   "source": [
    "Again we first define a single row corresponding to one source:"
   ]
  },
  {
   "cell_type": "code",
   "execution_count": 72,
   "metadata": {},
   "outputs": [],
   "source": [
    "class Source(tables.IsDescription):\n",
    "    ra              = tables.Float32Col()        # Right Ascencion [deg]\n",
    "    dec             = tables.Float32Col()        # Declination     [deg]\n",
    "    l               = tables.Float32Col()        # Heliocentric galactic longitude [deg]\n",
    "    b               = tables.Float32Col()        # Heliocentric galactic latitude [deg]\n",
    "    parallax        = tables.Float32Col()        # Noisy parallax [mas]\n",
    "    parallax_error  = tables.Float32Col()        # Parallax uncertainty [mas]\n",
    "    Gmag            = tables.Float32Col()        # Mean G magnitude\n",
    "    distance        = tables.Float32Col()        # Noisy heliocentric distance [kpc]\n",
    "    distance_error  = tables.Float32Col()        # Heliocentric distance uncertainty [kpc]\n",
    "    GCdist          = tables.Float32Col()        # Noisy galactocentric distance [kpc]\n",
    "    GClat           = tables.Float32Col()        # Noisy galactocentric latitude [deg]\n",
    "    GClon           = tables.Float32Col()        # Noisy galactocentric longitude [deg]"
   ]
  },
  {
   "cell_type": "markdown",
   "metadata": {},
   "source": [
    "Open the HDF5 file to write, and create an (empty) table:"
   ]
  },
  {
   "cell_type": "code",
   "execution_count": 73,
   "metadata": {},
   "outputs": [],
   "source": [
    "h5file = tables.open_file(\"halo_gaiagdr2.h5\", mode=\"w\", title=\"Selection of Halo sources in Gaia GDR2\")"
   ]
  },
  {
   "cell_type": "code",
   "execution_count": 74,
   "metadata": {},
   "outputs": [],
   "source": [
    "table = h5file.create_table(\"/\", \"HaloSources\", Source, \"Source data from gaiadr2.gaia_source\")"
   ]
  },
  {
   "cell_type": "markdown",
   "metadata": {},
   "source": [
    "Get a pointer to the Row instance of our table. This will be used to fill the table."
   ]
  },
  {
   "cell_type": "code",
   "execution_count": 75,
   "metadata": {},
   "outputs": [],
   "source": [
    "source = table.row"
   ]
  },
  {
   "cell_type": "markdown",
   "metadata": {},
   "source": [
    "Open the first CSV file downloaded with TOPCAT, parse all lines, and fill the HDF5 table."
   ]
  },
  {
   "cell_type": "code",
   "execution_count": 76,
   "metadata": {},
   "outputs": [],
   "source": [
    "with open(\"/Users/joris/Downloads/TAP_15_gaiadr2_source.csv\", \"rt\") as csvfile:\n",
    "    reader = csv.reader(csvfile, delimiter=',')\n",
    "    for n, line in enumerate(reader):\n",
    "        if n == 0: continue     # skip header line    \n",
    "        source['ra']              = float(line[0])\n",
    "        source['dec']             = float(line[1])\n",
    "        source['l']               = float(line[2])\n",
    "        source['b']               = float(line[3])\n",
    "        source['parallax']        = float(line[4])\n",
    "        source['parallax_error']  = float(line[5])\n",
    "        source['Gmag']            = float(line[6])\n",
    "        source['distance']        = 1/float(line[4])\n",
    "        source['distance_error']  = float(line[5])/float(line[4])**2        \n",
    "        \n",
    "        dist = 1/float(line[4])\n",
    "        l = np.deg2rad(float(line[2]))\n",
    "        b = np.deg2rad(float(line[3]))\n",
    "        x = 8.2 - dist * np.cos(b) * np.cos(l)\n",
    "        y = dist * np.cos(b) * np.sin(l)\n",
    "        z = dist * np.sin(b)\n",
    "        gcdist = np.sqrt(x*x + y*y + z*z)\n",
    "\n",
    "        source['GCdist']          = gcdist\n",
    "        source['GClat']           = np.rad2deg(np.arcsin(z/gcdist))          # degrees in [-90, +90]\n",
    "        source['GClon']           = 180.0 + np.rad2deg(np.arctan2(y, x))     # degrees in [0, 360]\n",
    "        source.append()"
   ]
  },
  {
   "cell_type": "markdown",
   "metadata": {},
   "source": [
    "Also add all sources from the second CSV file:"
   ]
  },
  {
   "cell_type": "code",
   "execution_count": 77,
   "metadata": {},
   "outputs": [],
   "source": [
    "with open(\"/Users/joris/Downloads/TAP_16_gaiadr2_source.csv\", \"rt\") as csvfile:\n",
    "    reader = csv.reader(csvfile, delimiter=',')\n",
    "    for n, line in enumerate(reader):\n",
    "        if n == 0: continue     # skip header line    \n",
    "        source['ra']              = float(line[0])\n",
    "        source['dec']             = float(line[1])\n",
    "        source['l']               = float(line[2])\n",
    "        source['b']               = float(line[3])\n",
    "        source['parallax']        = float(line[4])\n",
    "        source['parallax_error']  = float(line[5])\n",
    "        source['Gmag']            = float(line[6])\n",
    "        source['distance']        = 1/float(line[4])\n",
    "        source['distance_error']  = float(line[5])/float(line[4])**2        \n",
    "        \n",
    "        dist = 1/float(line[4])\n",
    "        l = np.deg2rad(float(line[2]))\n",
    "        b = np.deg2rad(float(line[3]))\n",
    "        x = 8.2 - dist * np.cos(b) * np.cos(l)\n",
    "        y = dist * np.cos(b) * np.sin(l)\n",
    "        z = dist * np.sin(b)\n",
    "        gcdist = np.sqrt(x*x + y*y + z*z)\n",
    "\n",
    "        source['GCdist']          = gcdist\n",
    "        source['GClat']           = np.rad2deg(np.arcsin(z/gcdist))          # degrees in [-90, +90]\n",
    "        source['GClon']           = 180.0 + np.rad2deg(np.arctan2(y, x))     # degrees in [0, 360]\n",
    "        source.append()"
   ]
  },
  {
   "cell_type": "markdown",
   "metadata": {},
   "source": [
    "Don't forget to flush:"
   ]
  },
  {
   "cell_type": "code",
   "execution_count": 78,
   "metadata": {},
   "outputs": [],
   "source": [
    "table.flush()"
   ]
  },
  {
   "cell_type": "code",
   "execution_count": 79,
   "metadata": {},
   "outputs": [
    {
     "name": "stdout",
     "output_type": "stream",
     "text": [
      "halo_gaiagdr2.h5 (File) 'Selection of Halo sources in Gaia GDR2'\n",
      "Last modif.: 'Wed May 23 17:41:54 2018'\n",
      "Object Tree: \n",
      "/ (RootGroup) 'Selection of Halo sources in Gaia GDR2'\n",
      "/HaloSources (Table(4230683,)) 'Source data from gaiadr2.gaia_source'\n",
      "\n"
     ]
    }
   ],
   "source": [
    "print(h5file)"
   ]
  },
  {
   "cell_type": "markdown",
   "metadata": {},
   "source": [
    "So we have 4.2 million gaia sources in our HDF5 table."
   ]
  },
  {
   "cell_type": "code",
   "execution_count": 80,
   "metadata": {},
   "outputs": [],
   "source": [
    "h5file.close()"
   ]
  }
 ],
 "metadata": {
  "kernelspec": {
   "display_name": "Python 3",
   "language": "python",
   "name": "python3"
  },
  "language_info": {
   "codemirror_mode": {
    "name": "ipython",
    "version": 3
   },
   "file_extension": ".py",
   "mimetype": "text/x-python",
   "name": "python",
   "nbconvert_exporter": "python",
   "pygments_lexer": "ipython3",
   "version": "3.6.4"
  }
 },
 "nbformat": 4,
 "nbformat_minor": 2
}
